{
 "cells": [
  {
   "cell_type": "code",
   "execution_count": 171,
   "metadata": {
    "collapsed": true
   },
   "outputs": [],
   "source": [
    "# libs we'll use\n",
    "import requests\n",
    "from bs4 import BeautifulSoup"
   ]
  },
  {
   "cell_type": "code",
   "execution_count": 172,
   "metadata": {
    "collapsed": true
   },
   "outputs": [],
   "source": [
    "# server - weather.rambler.ru\n",
    "serv_url = 'https://weather.rambler.ru/v-yaroslavle/'"
   ]
  },
  {
   "cell_type": "code",
   "execution_count": 173,
   "metadata": {
    "collapsed": true
   },
   "outputs": [],
   "source": [
    "# check date for format\n",
    "def is_right_format(date: str) -> bool:\n",
    "    if '.' in date:\n",
    "        a, b = date.split('.')\n",
    "        if a.isdigit() and b.isdigit():\n",
    "            return True\n",
    "\n",
    "# check date for range\n",
    "def is_right_date(date: str) -> bool:\n",
    "    day, month = date.split('.')\n",
    "    if int(day) in range(0, 32) and int(month) in range(7, 9):\n",
    "        return True\n",
    "\n",
    "# get date - return link for date\n",
    "def date_for_link(date: str) -> str:\n",
    "    day, month = date.split('.')\n",
    "    if int(month) == 7:\n",
    "        month = 'july'\n",
    "    elif int(month) == 8:\n",
    "        month = 'august'\n",
    "    return '{}-{}/'.format(day, month)\n",
    "\n",
    "# link or None\n",
    "def get_date_url(user_date: str) -> str:\n",
    "    if is_right_format(user_date):\n",
    "        if is_right_date(user_date):\n",
    "            return date_for_link(user_date)"
   ]
  },
  {
   "cell_type": "code",
   "execution_count": 174,
   "metadata": {
    "collapsed": false
   },
   "outputs": [],
   "source": [
    "def get_url(date: str) -> str:\n",
    "    url_date = get_date_url(date)\n",
    "    if url_date:\n",
    "        return serv_url + url_date"
   ]
  },
  {
   "cell_type": "code",
   "execution_count": 417,
   "metadata": {
    "collapsed": false
   },
   "outputs": [
    {
     "name": "stdout",
     "output_type": "stream",
     "text": [
      "12.08\n"
     ]
    }
   ],
   "source": [
    "date = input()\n",
    "\n",
    "url = get_url(date)\n",
    "if url:\n",
    "    r = requests.get(url)"
   ]
  },
  {
   "cell_type": "code",
   "execution_count": 418,
   "metadata": {
    "collapsed": false
   },
   "outputs": [],
   "source": [
    "assert r.status_code == 200"
   ]
  },
  {
   "cell_type": "code",
   "execution_count": 419,
   "metadata": {
    "collapsed": true
   },
   "outputs": [],
   "source": [
    "# we've got two page types: \n",
    "#     - detailed (close to us)\n",
    "#     - generalized (feature)\n",
    "# all the pages have main class w/ re: '_4pgy'\n",
    "# dif:\n",
    "#     - generalized include temp class w/ re: '_1HBR' \n",
    "# we'll get main class -> check for type -> get all the args"
   ]
  },
  {
   "cell_type": "code",
   "execution_count": 420,
   "metadata": {
    "collapsed": true
   },
   "outputs": [],
   "source": [
    "html = BeautifulSoup(r.content, 'html.parser')"
   ]
  },
  {
   "cell_type": "code",
   "execution_count": 425,
   "metadata": {
    "collapsed": false
   },
   "outputs": [],
   "source": [
    "# checking for class type\n",
    "is_general_dict = {}\n",
    "weather_dict = {}\n",
    "\n",
    "def check_type():\n",
    "    \n",
    "    temp_lst = html.findAll('div', {'class': '_1HBR'})\n",
    "    if temp_lst:\n",
    "        is_general_dict['type'] = True\n",
    "    else:\n",
    "        is_general_dict['type'] = False\n",
    "    \n",
    "    \n",
    "def get_main_class():\n",
    "    \n",
    "    re_main_class = re.compile('.*_4pgy.*')\n",
    "    \n",
    "    main_class = html.find('div', {'class': re_main_class})\n",
    "    \n",
    "def get_temp(general=True):\n",
    "    if general:  # FIX IT  (get from check_type)\n",
    "        weather_dict['temperature'] = html.find('div', {'class': '_1HBR'}).text\n",
    "    else:\n",
    "        re_temp_class = re.compile('.*_2ezK.*')\n",
    "        temp_class = html.find('div', {'class': re_temp_class}) # 'Ночью14°Утром19°Днём24°Вечером22°'\n",
    "        weather_dict['temperature'] = [int(number.group()) for number in ( \n",
    "                re.search(r'\\d+', word) \n",
    "                for word in temp_class.text.split('°')) if number] \n",
    "\n",
    "def get_table():\n",
    "    re_main_class = re.compile('.*2iSP.*')\n",
    "    main_class = html.find('div', {'class': re_main_class})\n",
    "    table_lst = re.findall('[А-Я|A-Z][^А-Я|A-Z]*', main_class.text)\n",
    "\n",
    "    # if ветер in table:\n",
    "    #     re_search\n",
    "    # if давление in table...\n",
    "    # if осадки in table:\n",
    "    for param in table_lst:\n",
    "        if 'Осадки' in param:\n",
    "            weather_dict['precipation'] = re.search(r'\\d+', param).group()\n",
    "        if 'Ветер' in param:\n",
    "            weather_dict['wind'] = re.search(r'\\d+', param).group()\n",
    "        if 'Давление' in param:\n",
    "            weather_dict['pressure'] = re.search(r'\\d+', param).group()\n",
    "        if 'Восход' in param:\n",
    "            weather_dict['sunrise'] = ':'.join(re.findall(r'\\d+', param))\n",
    "        if 'Закат' in param:\n",
    "            weather_dict['sunset'] = ':'.join(re.findall(r'\\d+', param))"
   ]
  },
  {
   "cell_type": "code",
   "execution_count": 426,
   "metadata": {
    "collapsed": false
   },
   "outputs": [
    {
     "data": {
      "text/plain": [
       "{'pressure': '754',\n",
       " 'sunrise': '04:37',\n",
       " 'sunset': '20:11',\n",
       " 'temperature': '16°',\n",
       " 'wind': '2'}"
      ]
     },
     "execution_count": 426,
     "metadata": {},
     "output_type": "execute_result"
    }
   ],
   "source": [
    "get_temp()\n",
    "get_table()\n",
    "weather_dict"
   ]
  },
  {
   "cell_type": "code",
   "execution_count": null,
   "metadata": {
    "collapsed": true
   },
   "outputs": [],
   "source": [
    "# ! adapter for temperature ! HOW? let's think about it\n",
    "\n",
    "# if general -> type_dict['general'] = True\n",
    "\n",
    "# if type_dict['general']:\n",
    "#     ...\n",
    "# else:\n",
    "#     ..."
   ]
  },
  {
   "cell_type": "code",
   "execution_count": null,
   "metadata": {
    "collapsed": true
   },
   "outputs": [],
   "source": []
  },
  {
   "cell_type": "code",
   "execution_count": null,
   "metadata": {
    "collapsed": true
   },
   "outputs": [],
   "source": []
  },
  {
   "cell_type": "code",
   "execution_count": null,
   "metadata": {
    "collapsed": true
   },
   "outputs": [],
   "source": []
  },
  {
   "cell_type": "code",
   "execution_count": null,
   "metadata": {
    "collapsed": true
   },
   "outputs": [],
   "source": []
  },
  {
   "cell_type": "code",
   "execution_count": null,
   "metadata": {
    "collapsed": true
   },
   "outputs": [],
   "source": []
  },
  {
   "cell_type": "code",
   "execution_count": null,
   "metadata": {
    "collapsed": true
   },
   "outputs": [],
   "source": []
  },
  {
   "cell_type": "code",
   "execution_count": null,
   "metadata": {
    "collapsed": true
   },
   "outputs": [],
   "source": []
  },
  {
   "cell_type": "code",
   "execution_count": null,
   "metadata": {
    "collapsed": true
   },
   "outputs": [],
   "source": []
  },
  {
   "cell_type": "code",
   "execution_count": null,
   "metadata": {
    "collapsed": true
   },
   "outputs": [],
   "source": []
  }
 ],
 "metadata": {
  "anaconda-cloud": {},
  "kernelspec": {
   "display_name": "Python [conda root]",
   "language": "python",
   "name": "conda-root-py"
  },
  "language_info": {
   "codemirror_mode": {
    "name": "ipython",
    "version": 3
   },
   "file_extension": ".py",
   "mimetype": "text/x-python",
   "name": "python",
   "nbconvert_exporter": "python",
   "pygments_lexer": "ipython3",
   "version": "3.5.2"
  }
 },
 "nbformat": 4,
 "nbformat_minor": 1
}
